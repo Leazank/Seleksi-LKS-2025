{
 "cells": [
  {
   "cell_type": "code",
   "execution_count": 38,
   "metadata": {},
   "outputs": [],
   "source": [
    "def isSubsequence(s: str, t: str) -> bool:\n",
    "    string = set()\n",
    "\n",
    "    for T in t:\n",
    "        for S in s:\n",
    "            if S == T:\n",
    "                string.add(S)\n",
    "    \n",
    "    # return \"\".join(list(string).reverse())\n",
    "    a = list(string)\n",
    "    return sorted(a)"
   ]
  },
  {
   "cell_type": "code",
   "execution_count": 39,
   "metadata": {},
   "outputs": [
    {
     "data": {
      "text/plain": [
       "['a', 'b', 'c']"
      ]
     },
     "execution_count": 39,
     "metadata": {},
     "output_type": "execute_result"
    }
   ],
   "source": [
    "isSubsequence('abc', 'dagbec')"
   ]
  },
  {
   "cell_type": "code",
   "execution_count": 46,
   "metadata": {},
   "outputs": [],
   "source": [
    "a = list('abcdef')"
   ]
  },
  {
   "cell_type": "code",
   "execution_count": 48,
   "metadata": {},
   "outputs": [],
   "source": [
    "a.remove('f')"
   ]
  },
  {
   "cell_type": "code",
   "execution_count": 53,
   "metadata": {},
   "outputs": [
    {
     "data": {
      "text/plain": [
       "'sb'"
      ]
     },
     "execution_count": 53,
     "metadata": {},
     "output_type": "execute_result"
    }
   ],
   "source": [
    "'s' + 'b'"
   ]
  },
  {
   "cell_type": "code",
   "execution_count": 51,
   "metadata": {},
   "outputs": [
    {
     "data": {
      "text/plain": [
       "['a', 'b', 'c', 'd', 'e']"
      ]
     },
     "execution_count": 51,
     "metadata": {},
     "output_type": "execute_result"
    }
   ],
   "source": [
    "a"
   ]
  },
  {
   "cell_type": "code",
   "execution_count": 56,
   "metadata": {},
   "outputs": [],
   "source": [
    "\n",
    "def romanToInt(s: str) -> int:\n",
    "    roman_value = {\n",
    "        'I':1, 'C':100,\n",
    "        'V':5, 'D':500,\n",
    "        'X':10, 'M':1000,\n",
    "        'L':50\n",
    "    }\n",
    "\n",
    "    exception_roman = {\n",
    "        'IV':4, 'CD':400,\n",
    "        'IX':9, 'CM':900,\n",
    "        'XL':40, 'XC':90\n",
    "    }\n",
    "    \n",
    "    exception_list = []\n",
    "    n = 0\n",
    "    while n < len(s)-1:\n",
    "        if (s[n] + s[n+1]) in exception_roman:\n",
    "            exception_list.append(s[n] + s[n+1])\n",
    "        n += 1\n",
    "    \n",
    "    return exception_list\n",
    "\n",
    "    \n",
    "\n",
    "\n",
    "\n",
    "\n"
   ]
  },
  {
   "cell_type": "code",
   "execution_count": 59,
   "metadata": {},
   "outputs": [
    {
     "data": {
      "text/plain": [
       "['XL']"
      ]
     },
     "execution_count": 59,
     "metadata": {},
     "output_type": "execute_result"
    }
   ],
   "source": [
    "romanToInt('XHGCXLA')"
   ]
  },
  {
   "cell_type": "code",
   "execution_count": 60,
   "metadata": {},
   "outputs": [
    {
     "data": {
      "text/plain": [
       "True"
      ]
     },
     "execution_count": 60,
     "metadata": {},
     "output_type": "execute_result"
    }
   ],
   "source": [
    "'abc' in 'rsdvabc'"
   ]
  },
  {
   "cell_type": "code",
   "execution_count": 61,
   "metadata": {},
   "outputs": [],
   "source": [
    "tes = {\n",
    "    'a':10,\n",
    "    'b':20,\n",
    "    'c':30\n",
    "}"
   ]
  },
  {
   "cell_type": "code",
   "execution_count": 62,
   "metadata": {},
   "outputs": [
    {
     "data": {
      "text/plain": [
       "True"
      ]
     },
     "execution_count": 62,
     "metadata": {},
     "output_type": "execute_result"
    }
   ],
   "source": [
    "'b' in tes"
   ]
  },
  {
   "cell_type": "code",
   "execution_count": 75,
   "metadata": {},
   "outputs": [],
   "source": [
    "\n",
    "def romanToInt(s: str) -> int:\n",
    "    roman_value = {\n",
    "        'I':1, 'C':100,\n",
    "        'V':5, 'D':500,\n",
    "        'X':10, 'M':1000,\n",
    "        'L':50\n",
    "    }\n",
    "    \n",
    "    addition = 0\n",
    "    n = 0\n",
    "    while n < len(s)-1:\n",
    "        if roman_value[s[n]] < roman_value[s[n+1]]:\n",
    "            addition += roman_value[s[n+1]] - roman_value[s[n]]\n",
    "            n += 2\n",
    "        else:\n",
    "            addition += roman_value[s[n]]\n",
    "            n += 1\n",
    "    \n",
    "    return addition\n",
    "\n",
    "        \n",
    "            \n",
    "    \n",
    "\n",
    "\n",
    "\n",
    "\n"
   ]
  },
  {
   "cell_type": "code",
   "execution_count": 76,
   "metadata": {},
   "outputs": [
    {
     "data": {
      "text/plain": [
       "1690"
      ]
     },
     "execution_count": 76,
     "metadata": {},
     "output_type": "execute_result"
    }
   ],
   "source": [
    "romanToInt(\"MDCXCV\")"
   ]
  },
  {
   "cell_type": "code",
   "execution_count": null,
   "metadata": {},
   "outputs": [],
   "source": [
    "class Solution:\n",
    "    def romanToInt(self, s: str) -> int:\n",
    "        roman_value = {\n",
    "            'I':1, 'C':100,\n",
    "            'V':5, 'D':500,\n",
    "            'X':10, 'M':1000,\n",
    "            'L':50\n",
    "        }\n",
    "\n",
    "        exception_roman = {\n",
    "            'IV':4, 'CD':400,\n",
    "            'IX':9, 'CM':900,\n",
    "            'XL':40, 'XC':90\n",
    "        }\n",
    "        \n",
    "        addition = 0\n",
    "        n = 0\n",
    "        while n < len(s)-1:\n",
    "            if (s[n] + s[n+1]) in exception_roman:\n",
    "                addition += exception_roman[s[n] + s[n+1]]\n",
    "                n += 2\n",
    "            else:\n",
    "                addition += roman_value[s[n]]\n",
    "                if n == len(s)-2:\n",
    "                    addition += roman_value[s[n+1]]\n",
    "                n += 1\n",
    "        \n",
    "        return addition\n",
    "                \n",
    "     \n",
    "\n",
    "\n",
    "\n",
    "\n"
   ]
  },
  {
   "cell_type": "code",
   "execution_count": 114,
   "metadata": {},
   "outputs": [],
   "source": [
    "def isSubsequence(s: str, t: str) -> bool:\n",
    "        ls = []\n",
    "\n",
    "        for S in s:\n",
    "            for T in t:\n",
    "                if S == T and S not in ls:\n",
    "                     ls.append(S)\n",
    "        \n",
    "        return \"\".join(ls) == s"
   ]
  },
  {
   "cell_type": "code",
   "execution_count": null,
   "metadata": {},
   "outputs": [
    {
     "ename": "NameError",
     "evalue": "name 'isSubsequence' is not defined",
     "output_type": "error",
     "traceback": [
      "\u001b[1;31m---------------------------------------------------------------------------\u001b[0m",
      "\u001b[1;31mNameError\u001b[0m                                 Traceback (most recent call last)",
      "Cell \u001b[1;32mIn[1], line 1\u001b[0m\n\u001b[1;32m----> 1\u001b[0m \u001b[43misSubsequence\u001b[49m(\u001b[38;5;124m'\u001b[39m\u001b[38;5;124mab\u001b[39m\u001b[38;5;124m'\u001b[39m, \u001b[38;5;124m'\u001b[39m\u001b[38;5;124mbaab\u001b[39m\u001b[38;5;124m'\u001b[39m)\n",
      "\u001b[1;31mNameError\u001b[0m: name 'isSubsequence' is not defined"
     ]
    }
   ],
   "source": [
    "isSubsequence('ab', 'baab')"
   ]
  },
  {
   "cell_type": "code",
   "execution_count": 94,
   "metadata": {},
   "outputs": [],
   "source": [
    "ls = ['a','b','c']"
   ]
  },
  {
   "cell_type": "code",
   "execution_count": 95,
   "metadata": {},
   "outputs": [
    {
     "data": {
      "text/plain": [
       "{'a', 'b', 'c'}"
      ]
     },
     "execution_count": 95,
     "metadata": {},
     "output_type": "execute_result"
    }
   ],
   "source": [
    "set(ls)"
   ]
  },
  {
   "cell_type": "code",
   "execution_count": 1,
   "metadata": {},
   "outputs": [],
   "source": [
    "def findSum(arr, n):\n",
    "    arr.sort()\n",
    "    L = 0\n",
    "    R = len(arr)-1\n",
    "\n",
    "    while L < R:\n",
    "        if arr[L] + arr[R] > n:\n",
    "            R -= 1\n",
    "        elif arr[L] + arr[R] < n:\n",
    "            L += 1\n",
    "        else:\n",
    "            return arr[L], arr[R]\n",
    "    \n",
    "    return \"Not Found\"\n",
    "\n",
    "    "
   ]
  },
  {
   "cell_type": "code",
   "execution_count": 7,
   "metadata": {},
   "outputs": [
    {
     "data": {
      "text/plain": [
       "(1, 5)"
      ]
     },
     "execution_count": 7,
     "metadata": {},
     "output_type": "execute_result"
    }
   ],
   "source": [
    "findSum([8, 7, 3, 5, 1], 6)"
   ]
  },
  {
   "cell_type": "code",
   "execution_count": 8,
   "metadata": {},
   "outputs": [
    {
     "data": {
      "text/plain": [
       "[1, 3, 5, 7, 8]"
      ]
     },
     "execution_count": 8,
     "metadata": {},
     "output_type": "execute_result"
    }
   ],
   "source": [
    "sorted([8, 7, 3, 5, 1])"
   ]
  },
  {
   "cell_type": "code",
   "execution_count": null,
   "metadata": {},
   "outputs": [],
   "source": [
    "def findDuplicate(arr):\n",
    "    d = {key:[] for key in arr}\n",
    "\n",
    "    for idx, dup in enumerate(arr):\n",
    "        d[dup].append(idx)\n",
    "\n",
    "    dup = list(d.items())\n",
    "    max_dup = len(dup[0][1])\n",
    "    dup_value = dup[0][0]\n",
    "\n",
    "    for key, value in dup:\n",
    "        if len(value) > max_dup:\n",
    "            dup_value = key\n",
    "\n",
    "\n",
    "    \n",
    "    return dup_value"
   ]
  },
  {
   "cell_type": "code",
   "execution_count": 89,
   "metadata": {},
   "outputs": [
    {
     "data": {
      "text/plain": [
       "2"
      ]
     },
     "execution_count": 89,
     "metadata": {},
     "output_type": "execute_result"
    }
   ],
   "source": [
    "findDuplicate([1,1,2,3,2,2])"
   ]
  },
  {
   "cell_type": "code",
   "execution_count": 82,
   "metadata": {},
   "outputs": [
    {
     "data": {
      "text/plain": [
       "69"
      ]
     },
     "execution_count": 82,
     "metadata": {},
     "output_type": "execute_result"
    }
   ],
   "source": [
    "findDuplicate([1, 1, 69, 69, 69])"
   ]
  },
  {
   "cell_type": "code",
   "execution_count": 104,
   "metadata": {},
   "outputs": [],
   "source": [
    "def ahsanTampan(arr):\n",
    "\n",
    "    max_num = max(arr)\n",
    "    list_num = []\n",
    "    for i in range(arr[0], max_num+1):\n",
    "        list_num.append(i)\n",
    "\n",
    "    return list_num"
   ]
  },
  {
   "cell_type": "code",
   "execution_count": 105,
   "metadata": {},
   "outputs": [
    {
     "data": {
      "text/plain": [
       "[1, 2, 3, 4, 5]"
      ]
     },
     "execution_count": 105,
     "metadata": {},
     "output_type": "execute_result"
    }
   ],
   "source": [
    "ahsanTampan([1,3,5])"
   ]
  },
  {
   "cell_type": "code",
   "execution_count": null,
   "metadata": {},
   "outputs": [],
   "source": [
    "def kurung(string:str):\n",
    "    mapping = {\n",
    "        '(':[],\n",
    "        ')':[],\n",
    "        '[':[],\n",
    "        ']':[],\n",
    "        '{':[],\n",
    "        '}':[]\n",
    "    }\n",
    "\n",
    "    for idx, s in enumerate(string):\n",
    "        mapping[s].append(idx)\n",
    "    \n",
    "    map_value = list(mapping.values())\n",
    "\n",
    "    i = 0\n",
    "    while i < len(mapping.values())-1:\n",
    "        if len(map_value[i]) == len(map_value[i+1]):\n",
    "            i += 2\n",
    "        else:\n",
    "            return False\n",
    "    \n",
    "    return True\n",
    "        \n"
   ]
  },
  {
   "cell_type": "code",
   "execution_count": 175,
   "metadata": {},
   "outputs": [
    {
     "data": {
      "text/plain": [
       "True"
      ]
     },
     "execution_count": 175,
     "metadata": {},
     "output_type": "execute_result"
    }
   ],
   "source": [
    "kurung('(([[))]]')"
   ]
  },
  {
   "cell_type": "code",
   "execution_count": 270,
   "metadata": {},
   "outputs": [],
   "source": [
    "def subString(string:str):\n",
    "\n",
    "    p1 = 0\n",
    "    count = 0\n",
    "\n",
    "    while p1 < len(string)-2:\n",
    "        if string[p1] == string[p1+2]:\n",
    "            count += 1\n",
    "        p1 += 2\n",
    "\n",
    "    return count+1\n",
    "\n",
    "    \n",
    "        \n",
    "\n"
   ]
  },
  {
   "cell_type": "code",
   "execution_count": 283,
   "metadata": {},
   "outputs": [
    {
     "data": {
      "text/plain": [
       "4"
      ]
     },
     "execution_count": 283,
     "metadata": {},
     "output_type": "execute_result"
    }
   ],
   "source": [
    "subString('cacacsacas')"
   ]
  },
  {
   "cell_type": "code",
   "execution_count": 301,
   "metadata": {},
   "outputs": [],
   "source": [
    "def fib(num):\n",
    "    result = []\n",
    "\n",
    "    for n in range(num):\n",
    "        if n <= 1:\n",
    "            result.append(n)\n",
    "        elif n == 2:\n",
    "            result.append(1)\n",
    "        else:\n",
    "            result.append(n-1)\n",
    "    \n",
    "    return result\n",
    "        "
   ]
  },
  {
   "cell_type": "code",
   "execution_count": 305,
   "metadata": {},
   "outputs": [
    {
     "data": {
      "text/plain": [
       "[0, 1, 1, 2, 3, 4]"
      ]
     },
     "execution_count": 305,
     "metadata": {},
     "output_type": "execute_result"
    }
   ],
   "source": [
    "fib(6)"
   ]
  },
  {
   "cell_type": "code",
   "execution_count": null,
   "metadata": {},
   "outputs": [],
   "source": []
  }
 ],
 "metadata": {
  "kernelspec": {
   "display_name": "Python 3",
   "language": "python",
   "name": "python3"
  },
  "language_info": {
   "codemirror_mode": {
    "name": "ipython",
    "version": 3
   },
   "file_extension": ".py",
   "mimetype": "text/x-python",
   "name": "python",
   "nbconvert_exporter": "python",
   "pygments_lexer": "ipython3",
   "version": "3.12.4"
  }
 },
 "nbformat": 4,
 "nbformat_minor": 2
}
